{
 "cells": [
  {
   "cell_type": "code",
   "execution_count": 1,
   "id": "79412d4f",
   "metadata": {},
   "outputs": [
    {
     "name": "stdout",
     "output_type": "stream",
     "text": [
      "String contains the set of characters\n"
     ]
    }
   ],
   "source": [
    "#Q.1\n",
    "import re\n",
    "string=\"1254 My name is Gouri I live in pune 28\"\n",
    "pattern='^[a-zA-Z0-9]+'\n",
    "if re.search(pattern,string):\n",
    "    print('String contains the set of characters')\n",
    "else:\n",
    "    print('String is Invalid')"
   ]
  },
  {
   "cell_type": "code",
   "execution_count": 2,
   "id": "ed2703de",
   "metadata": {},
   "outputs": [
    {
     "name": "stdout",
     "output_type": "stream",
     "text": [
      "<re.Match object; span=(9, 10), match='a'>\n"
     ]
    }
   ],
   "source": [
    "#Q.2\n",
    "string=\"There is an 20 apples\"\n",
    "pattern='ab*?'\n",
    "result=re.search(pattern,string)\n",
    "print(result)"
   ]
  },
  {
   "cell_type": "code",
   "execution_count": 3,
   "id": "7b84ea6d",
   "metadata": {},
   "outputs": [
    {
     "name": "stdout",
     "output_type": "stream",
     "text": [
      "<re.Match object; span=(0, 1), match='a'>\n"
     ]
    }
   ],
   "source": [
    "#Q.3\n",
    "string=\"a baby girl sitting on a chair\"\n",
    "pattern='ab?+'\n",
    "result=re.search(pattern,string)\n",
    "print(result)"
   ]
  },
  {
   "cell_type": "code",
   "execution_count": 4,
   "id": "2ce9bbed",
   "metadata": {},
   "outputs": [
    {
     "name": "stdout",
     "output_type": "stream",
     "text": [
      "<re.Match object; span=(1, 2), match='a'>\n"
     ]
    }
   ],
   "source": [
    "#Q.4\n",
    "string=\"Baby girl sitting on a chair\"\n",
    "pattern='ab??'\n",
    "result=re.search(pattern,string)\n",
    "print(result)"
   ]
  },
  {
   "cell_type": "code",
   "execution_count": 5,
   "id": "3547ec3b",
   "metadata": {},
   "outputs": [
    {
     "name": "stdout",
     "output_type": "stream",
     "text": [
      "string is match\n"
     ]
    }
   ],
   "source": [
    "#Q.5\n",
    "import re\n",
    "text=\"abbbcsdabbmn\"\n",
    "pattern='ab{3}?'\n",
    "if re.search(pattern,text):\n",
    "    print('string is match')\n",
    "else:\n",
    "    print(' String is Not Match')\n"
   ]
  },
  {
   "cell_type": "code",
   "execution_count": 6,
   "id": "17e22e63",
   "metadata": {},
   "outputs": [
    {
     "name": "stdout",
     "output_type": "stream",
     "text": [
      "string is match\n"
     ]
    }
   ],
   "source": [
    "#Q.6\n",
    "import re\n",
    "text=\"abbbbmitdevb\"\n",
    "pattern='ab{2,3}?'\n",
    "if re.search(pattern,text):\n",
    "    print('string is match')\n",
    "else:\n",
    "    print(' String is Not Match')"
   ]
  },
  {
   "cell_type": "code",
   "execution_count": 7,
   "id": "b1bae984",
   "metadata": {},
   "outputs": [
    {
     "name": "stdout",
     "output_type": "stream",
     "text": [
      "string is match\n"
     ]
    }
   ],
   "source": [
    "#Q.7\n",
    "import re\n",
    "text=\"amitdevb\"\n",
    "pattern='a.*?b$'\n",
    "if re.search(pattern,text):\n",
    "    print('string is match')\n",
    "else:\n",
    "    print(' String is Not Match')"
   ]
  },
  {
   "cell_type": "code",
   "execution_count": 8,
   "id": "f9a60476",
   "metadata": {},
   "outputs": [
    {
     "name": "stdout",
     "output_type": "stream",
     "text": [
      "Beginning word match\n"
     ]
    }
   ],
   "source": [
    "#Q.8\n",
    "import re\n",
    "string=\"India is my country\"\n",
    "pattern='^\\w+'\n",
    "if re.search(pattern,string):\n",
    "    print('Beginning word match')\n",
    "else:\n",
    "    print('Not match')"
   ]
  },
  {
   "cell_type": "code",
   "execution_count": 9,
   "id": "266d38c0",
   "metadata": {},
   "outputs": [
    {
     "name": "stdout",
     "output_type": "stream",
     "text": [
      "End word match\n"
     ]
    }
   ],
   "source": [
    "#Q.9\n",
    "import re \n",
    "string=\"India is my country\"\n",
    "pattern='\\w*$'\n",
    "if re.search(pattern,string):\n",
    "    print('End word match')\n",
    "else:\n",
    "    print('Not match')"
   ]
  },
  {
   "cell_type": "code",
   "execution_count": 10,
   "id": "df73e8e4",
   "metadata": {},
   "outputs": [
    {
     "name": "stdout",
     "output_type": "stream",
     "text": [
      "['Life', 'mind', 'ever', 'ythi', 'What', 'thin', 'beco']\n"
     ]
    }
   ],
   "source": [
    "#Q.10\n",
    "import re\n",
    "string=\"Life is a war The mind is everything What u think u become\"\n",
    "pattern='\\w{4}+'\n",
    "result=re.findall(pattern,string)\n",
    "print(result)"
   ]
  },
  {
   "cell_type": "code",
   "execution_count": null,
   "id": "fb754289",
   "metadata": {},
   "outputs": [],
   "source": []
  }
 ],
 "metadata": {
  "kernelspec": {
   "display_name": "Python 3 (ipykernel)",
   "language": "python",
   "name": "python3"
  },
  "language_info": {
   "codemirror_mode": {
    "name": "ipython",
    "version": 3
   },
   "file_extension": ".py",
   "mimetype": "text/x-python",
   "name": "python",
   "nbconvert_exporter": "python",
   "pygments_lexer": "ipython3",
   "version": "3.11.5"
  }
 },
 "nbformat": 4,
 "nbformat_minor": 5
}
