{
 "cells": [
  {
   "cell_type": "code",
   "execution_count": 32,
   "id": "00678a0a",
   "metadata": {},
   "outputs": [
    {
     "name": "stdout",
     "output_type": "stream",
     "text": [
      "Python:Exercise::PHP:exercises:\n"
     ]
    }
   ],
   "source": [
    "#Q.1\n",
    "import re\n",
    "string='Python Exercise, PHP exercises.'\n",
    "pattern=\"[ ,.]\"\n",
    "\n",
    "result=re.sub(pattern,\":\",string)\n",
    "print(result)\n",
    "\n",
    "    "
   ]
  },
  {
   "cell_type": "code",
   "execution_count": 5,
   "id": "3e5a5fa3",
   "metadata": {},
   "outputs": [
    {
     "name": "stdout",
     "output_type": "stream",
     "text": [
      "0            hello world \n",
      "1              XXXXX test\n",
      "2       four five  six   \n",
      "Name: SUMMARY, dtype: object\n"
     ]
    }
   ],
   "source": [
    "#Q.2\n",
    "import pandas as pd\n",
    "\n",
    "Dict={'SUMMARY':['hello,world!','XXXXX test','123four,five:;six...']}\n",
    "df=pd.DataFrame(Dict)\n",
    "df=df['SUMMARY'].str.replace('[^a-zA-Z\\s]',' ',regex=True)\n",
    "print(df)"
   ]
  },
  {
   "cell_type": "code",
   "execution_count": 6,
   "id": "f09ef19c",
   "metadata": {},
   "outputs": [
    {
     "name": "stdout",
     "output_type": "stream",
     "text": [
      "['name', 'Gour', 'Atol']\n"
     ]
    }
   ],
   "source": [
    "#Q.3\n",
    "import re\n",
    "string1=\"My name is Gouri Atole\"\n",
    "\n",
    "def four_char(string1):\n",
    "    pattern=re.compile('\\w{4}+')\n",
    "    result=pattern.findall(string1)\n",
    "    print(result)\n",
    "\n",
    "four_char(string1)"
   ]
  },
  {
   "cell_type": "code",
   "execution_count": 10,
   "id": "1ca78363",
   "metadata": {},
   "outputs": [
    {
     "name": "stdout",
     "output_type": "stream",
     "text": [
      "['Smile', 'the', 'best', 'medic', 'ine', 'the', 'world', 'pleas', 'smile']\n"
     ]
    }
   ],
   "source": [
    "#Q.4\n",
    "import re\n",
    "string1=\"Smile is the best medicine in the world so please smile\"\n",
    "def four_char(string1):\n",
    "    prog=re.compile('\\w{3,5}')\n",
    "    result=prog.findall(string1)\n",
    "    print(result)\n",
    "four_char(string1)\n"
   ]
  },
  {
   "cell_type": "code",
   "execution_count": 11,
   "id": "8dee0e56",
   "metadata": {},
   "outputs": [
    {
     "name": "stdout",
     "output_type": "stream",
     "text": [
      "example .com\n",
      "hr@fliprobo .com\n",
      "github .com\n",
      "Hello Data Science World\n",
      "Data Scientist\n"
     ]
    }
   ],
   "source": [
    "#Q.5\n",
    "import re\n",
    "string=[\"example (.com)\", \"hr@fliprobo (.com)\", \"github (.com)\", \"Hello (Data Science World)\", \"Data (Scientist)\"]\n",
    "def remove_par(string):\n",
    "    \n",
    "    for i in string:\n",
    "        pattern=re.compile(\"[()]\")\n",
    "        result=re.sub(pattern,\"\",i)\n",
    "        print (result)\n",
    "        \n",
    "            \n",
    "remove_par(string)"
   ]
  },
  {
   "cell_type": "code",
   "execution_count": 55,
   "id": "c1e50f85",
   "metadata": {},
   "outputs": [
    {
     "name": "stdout",
     "output_type": "stream",
     "text": [
      ": [\"example \", \"hr@fliprobo \", \"github \", \"Hello \", \"Data \"]\n"
     ]
    }
   ],
   "source": [
    "#Q.6 \n",
    "\n",
    "with open('paraenthesis.txt', 'r') as file:\n",
    "    text=file.read()\n",
    "    def line(text):\n",
    "        \n",
    "        pattern=r'\\([^()]*\\)'\n",
    "        result=re.sub(pattern, '',text)\n",
    "        print (result)\n",
    "        \n",
    "    line(text)        \n",
    "        \n"
   ]
  },
  {
   "cell_type": "code",
   "execution_count": 17,
   "id": "b1d7f10e",
   "metadata": {},
   "outputs": [
    {
     "name": "stdout",
     "output_type": "stream",
     "text": [
      "['Importance', 'Of', 'Regular', 'Expressions', 'In', 'Python']\n"
     ]
    }
   ],
   "source": [
    "#Q.7\n",
    "import re\n",
    "string=\"ImportanceOfRegularExpressionsInPython\"\n",
    "pattern='[A-Z][^A-Z]*'\n",
    "def splt(string):\n",
    "    result=re.findall(pattern,string)\n",
    "    print(result)\n",
    "\n",
    "splt(string)"
   ]
  },
  {
   "cell_type": "code",
   "execution_count": 18,
   "id": "ae29c565",
   "metadata": {},
   "outputs": [
    {
     "name": "stdout",
     "output_type": "stream",
     "text": [
      "RegularExpression 1IsAn 2ImportantTopic 3InPython\n"
     ]
    }
   ],
   "source": [
    "#Q.8\n",
    "import re\n",
    "text=\"RegularExpression1IsAn2ImportantTopic3InPython\"\n",
    "pattern=r'(\\d+)([\\w+])'\n",
    "def insert(text):\n",
    "\n",
    "    result=re.sub(pattern,r' \\1\\2',text)\n",
    "    print(result)\n",
    "\n",
    "insert(text)"
   ]
  },
  {
   "cell_type": "code",
   "execution_count": 19,
   "id": "013aaf5b",
   "metadata": {},
   "outputs": [
    {
     "name": "stdout",
     "output_type": "stream",
     "text": [
      "RegularExpression 1 IsAn 2 ImportantTopic 3 InPython\n"
     ]
    }
   ],
   "source": [
    "#Q.9\n",
    "import re\n",
    "string=\"RegularExpression1IsAn2ImportantTopic3InPython\"\n",
    "pattern=r'([A-Z] [a-z0-9]+|\\d+)'\n",
    "def insert_space(string):\n",
    "    \n",
    "    result=re.sub(pattern, r' \\1 ',string)\n",
    "    \n",
    "    print(result)\n",
    "    \n",
    "        \n",
    "insert_space(string)"
   ]
  },
  {
   "cell_type": "code",
   "execution_count": 20,
   "id": "8b3fe6a6",
   "metadata": {},
   "outputs": [
    {
     "name": "stdout",
     "output_type": "stream",
     "text": [
      "String Is Match\n"
     ]
    }
   ],
   "source": [
    "#Q.11\n",
    "string=\"Gouriatole_94\"\n",
    "def match(string):\n",
    "    pattern='^[a-zA-Z0-9_]*$'\n",
    "    if re.search(pattern,string):\n",
    "        print(\"String Is Match\")\n",
    "    else:\n",
    "        print(\"Not Match\")\n",
    "match(string)"
   ]
  },
  {
   "cell_type": "code",
   "execution_count": 21,
   "id": "fa7e9f6e",
   "metadata": {},
   "outputs": [
    {
     "name": "stdout",
     "output_type": "stream",
     "text": [
      "String Start with specific number\n"
     ]
    }
   ],
   "source": [
    "#Q.12\n",
    "string=\"21 Hello All\"\n",
    "def number(string):\n",
    "    pattern='^\\d+'\n",
    "    if re.search(pattern,string):\n",
    "        print(\"String Start with specific number\")\n",
    "    else:\n",
    "        print(\"Not Match\")\n",
    "number(string)\n",
    "\n"
   ]
  },
  {
   "cell_type": "code",
   "execution_count": 22,
   "id": "0e250794",
   "metadata": {},
   "outputs": [
    {
     "name": "stdout",
     "output_type": "stream",
     "text": [
      "152.52.12.560\n"
     ]
    }
   ],
   "source": [
    "#Q.13\n",
    "ip_add=\"152.052.012.560\"\n",
    "def remove(ip_add):\n",
    "    \n",
    "    pattern=r'\\b0+(\\d)'\n",
    "    result=re.sub(pattern,r'\\1',ip_add)\n",
    "    print(result)\n",
    "remove(ip_add)\n",
    "    "
   ]
  },
  {
   "cell_type": "code",
   "execution_count": 21,
   "id": "62236b13",
   "metadata": {},
   "outputs": [
    {
     "name": "stdout",
     "output_type": "stream",
     "text": [
      "<re.Match object; span=(5, 21), match='August 15th 1947'>\n"
     ]
    }
   ],
   "source": [
    "#Q.14\n",
    "\n",
    "import re\n",
    "\n",
    "with open('Q.14.txt','r') as file:\n",
    "    text=file.read()\n",
    "    \n",
    "def ext_date(text):\n",
    "    #pattern=r'\\b([A-Z][a-z]+) \\d{1,2}(?:st|nd|rd|th)? \\d{4}\\b'\n",
    "    \n",
    "    pattern=r'\\b([A-Z]\\w+) \\d{1,2}(?:th)? \\d{4}'\n",
    "    result=re.search(pattern,text)\n",
    "    print(result)\n",
    "    \n",
    "ext_date(text)"
   ]
  },
  {
   "cell_type": "code",
   "execution_count": 24,
   "id": "d0ffe141",
   "metadata": {},
   "outputs": [
    {
     "name": "stdout",
     "output_type": "stream",
     "text": [
      "Search Word is Matched\n",
      "Search Word is Matched\n",
      "Word is Not Matched\n"
     ]
    }
   ],
   "source": [
    "#Q.15\n",
    "text=\"The quick brown fox jumps over the lazy dog.\"\n",
    "srch_pattern=['fox','dog','horse']\n",
    "for word in srch_pattern:\n",
    "    if re.search(word,text):\n",
    "        print(\"Search Word is Matched\")\n",
    "    else:\n",
    "        print(\"Word is Not Matched\")"
   ]
  },
  {
   "cell_type": "code",
   "execution_count": 32,
   "id": "fb73d2c2",
   "metadata": {},
   "outputs": [
    {
     "name": "stdout",
     "output_type": "stream",
     "text": [
      "<re.Match object; span=(16, 19), match='fox'>\n"
     ]
    }
   ],
   "source": [
    "#Q.16\n",
    "import re\n",
    "text=\"The quick brown fox jumps over the lazy dog.\"\n",
    "pattern=r'fox'\n",
    "\n",
    "result=re.search(pattern,text)\n",
    "print(result)\n",
    "\n"
   ]
  },
  {
   "cell_type": "code",
   "execution_count": 34,
   "id": "1ef4f22c",
   "metadata": {},
   "outputs": [
    {
     "name": "stdout",
     "output_type": "stream",
     "text": [
      "Substring is Found: exercises\n"
     ]
    }
   ],
   "source": [
    "#Q.17\n",
    "text='Python exercises, PHP exercises,C# exercises'\n",
    "pattern='exercises'\n",
    "\n",
    "if re.findall(pattern,text):\n",
    "        print('Substring is Found:',pattern)\n",
    "else:\n",
    "        print('Substring Not Found:',pattern)"
   ]
  },
  {
   "cell_type": "code",
   "execution_count": 35,
   "id": "ff55eb38",
   "metadata": {},
   "outputs": [
    {
     "name": "stdout",
     "output_type": "stream",
     "text": [
      "Substring Found <re.Match object; span=(7, 16), match='exercises'>\n",
      "Substring Found <re.Match object; span=(22, 31), match='exercises'>\n",
      "Substring Found <re.Match object; span=(35, 44), match='exercises'>\n"
     ]
    }
   ],
   "source": [
    "#Q.18\n",
    "import re\n",
    "text='Python exercises, PHP exercises,C# exercises'\n",
    "pattern='exercises'\n",
    "\n",
    "for sample in re.finditer(pattern,text):\n",
    "    \n",
    "        print('Substring Found',sample)\n",
    "        "
   ]
  },
  {
   "cell_type": "code",
   "execution_count": 36,
   "id": "f334b541",
   "metadata": {},
   "outputs": [
    {
     "name": "stdout",
     "output_type": "stream",
     "text": [
      "04-12-2024\n"
     ]
    }
   ],
   "source": [
    "#Q.19\n",
    "import re\n",
    "dt='2024-12-04'\n",
    "pattern=r'(\\d{4})-(\\d{1,2})-(\\d{1,2})'\n",
    "\n",
    "def convert(dt):\n",
    "    new_date=re.sub(pattern,'\\\\3-\\\\2-\\\\1',dt)\n",
    "    print(new_date)\n",
    "    \n",
    "convert(dt)"
   ]
  },
  {
   "cell_type": "code",
   "execution_count": 37,
   "id": "b3da51f1",
   "metadata": {},
   "outputs": [
    {
     "name": "stdout",
     "output_type": "stream",
     "text": [
      "['01.12', '145.8', '3.01', '27.25', '0.25']\n"
     ]
    }
   ],
   "source": [
    "#Q.20\n",
    "import re\n",
    "text=\"01.12 0132.123 2.31875 145.8 3.01 27.25 0.25\"\n",
    "\n",
    "pattern=r'\\d+\\.[0-9]{1,2}\\b'\n",
    "\n",
    "def decimal_no(text):\n",
    "        patterns=re.compile(pattern)\n",
    "        dec=re.findall(patterns,text)\n",
    "        print(dec)\n",
    "        \n",
    "decimal_no(text)"
   ]
  },
  {
   "cell_type": "code",
   "execution_count": 39,
   "id": "71a54deb",
   "metadata": {},
   "outputs": [
    {
     "name": "stdout",
     "output_type": "stream",
     "text": [
      "Numbers: 80\n",
      "The position of no.s is: <re.Match object; span=(18, 20), match='80'>\n",
      "Numbers: 62\n",
      "The position of no.s is: <re.Match object; span=(67, 69), match='62'>\n"
     ]
    }
   ],
   "source": [
    "#Q.21\n",
    "import re\n",
    "string=\"Sachin has scored 80 centuries in his cricket carrer and virat has 62 scored\"\n",
    "pattern=re.compile('\\d+')\n",
    "\n",
    "for match in pattern.finditer(string):\n",
    "    \n",
    "    print(\"Numbers:\",match.group())\n",
    "    print(\"The position of no.s is:\",match)\n"
   ]
  },
  {
   "cell_type": "code",
   "execution_count": 40,
   "id": "492d14b7",
   "metadata": {},
   "outputs": [
    {
     "name": "stdout",
     "output_type": "stream",
     "text": [
      "The largest number is: 950\n"
     ]
    }
   ],
   "source": [
    "#Q.22\n",
    "sample_text='My marks in each semester are: 947, 896, 926, 524, 734, 950, 642'\n",
    "pattern='\\d+'\n",
    "def lar(sample_text):\n",
    "    \n",
    "    largest_no=re.findall(pattern,sample_text)\n",
    "    max_no=max(largest_no)\n",
    "\n",
    "    print(\"The largest number is:\",max_no)\n",
    "lar(sample_text)"
   ]
  },
  {
   "cell_type": "code",
   "execution_count": 41,
   "id": "dbcacd54",
   "metadata": {},
   "outputs": [
    {
     "name": "stdout",
     "output_type": "stream",
     "text": [
      "Regular Expression Is An Important Topic In Python\n"
     ]
    }
   ],
   "source": [
    "#Q.23\n",
    "string1=\"RegularExpressionIsAnImportantTopicInPython\"\n",
    "pattern=r'(\\w)([A-Z])'\n",
    "\n",
    "def insrt_space(string1):\n",
    "\n",
    "    result=re.sub(pattern,r'\\1 \\2',string1)\n",
    "    print(result)\n",
    "    \n",
    "insrt_space(string1)"
   ]
  },
  {
   "cell_type": "code",
   "execution_count": 42,
   "id": "2222cd09",
   "metadata": {},
   "outputs": [
    {
     "name": "stdout",
     "output_type": "stream",
     "text": [
      "['Good', 'Things', 'Take', 'Time']\n"
     ]
    }
   ],
   "source": [
    "#Q.24\n",
    "string=\"Good Things Take Time njdhf\"\n",
    "pattern=r'[A-Z][a-z]+'\n",
    "\n",
    "result=re.findall(pattern,string)\n",
    "print(result)\n"
   ]
  },
  {
   "cell_type": "code",
   "execution_count": 47,
   "id": "c854f3be",
   "metadata": {},
   "outputs": [
    {
     "name": "stdout",
     "output_type": "stream",
     "text": [
      "Hello hello world\n"
     ]
    }
   ],
   "source": [
    "#Q.25\n",
    "import re\n",
    "string=\"Hello hello world world\"\n",
    "pattern=r'\\b(\\w+)(?:\\W+\\1\\b)+'\n",
    "def dupl(string):\n",
    "    \n",
    "    x=re.sub(pattern,r'\\1',string)\n",
    "    print(x)\n",
    "    \n",
    "dupl(string)"
   ]
  },
  {
   "cell_type": "code",
   "execution_count": 50,
   "id": "e1d011c2",
   "metadata": {},
   "outputs": [
    {
     "name": "stdout",
     "output_type": "stream",
     "text": [
      "Enter a String:hello\n",
      "The string ending with alphanumeric character\n"
     ]
    }
   ],
   "source": [
    "#Q.26\n",
    "\n",
    "input_str=input(\"Enter a String:\")\n",
    "def accept_str(string):\n",
    "    pattern='\\w$'\n",
    "    \n",
    "    if re.search(pattern,string):\n",
    "        print(\"The string ending with alphanumeric character\") \n",
    "    else:\n",
    "        print(\"The string does not end with alphanumeric character\")\n",
    "        \n",
    "accept_str(input_str)\n"
   ]
  },
  {
   "cell_type": "code",
   "execution_count": 51,
   "id": "a9ed797c",
   "metadata": {},
   "outputs": [
    {
     "name": "stdout",
     "output_type": "stream",
     "text": [
      "['#Doltiwal', '#xyzabc', '#Demonetization']\n"
     ]
    }
   ],
   "source": [
    "#Q.27\n",
    "sample_text=\"\"\"RT @kapil_kausik: #Doltiwal I mean #xyzabc is \"hurt\" by #Demonetization as the same has rendered USELESS <ed><U+00A0><U+00BD><ed><U+00B1><U+0089> \"acquired funds\" No wo\"\"\"\n",
    "pattern=r'#[a-zA-Z0-9]+'\n",
    "\n",
    "def extract(sample_text):\n",
    "    \n",
    "    result=re.findall(pattern,sample_text)\n",
    "    print(result)\n",
    "    \n",
    "extract(sample_text)"
   ]
  },
  {
   "cell_type": "code",
   "execution_count": 52,
   "id": "0bfca1b2",
   "metadata": {},
   "outputs": [
    {
     "name": "stdout",
     "output_type": "stream",
     "text": [
      "@Jags123456 Bharat band on 28??<ed><ed>Those who  are protesting #demonetization  are all different party leaders\n"
     ]
    }
   ],
   "source": [
    "#Q.28\n",
    "sample_text=\"@Jags123456 Bharat band on 28??<ed><U+00A0><U+00BD><ed><U+00B8><U+0082>Those who  are protesting #demonetization  are all different party leaders\"\n",
    "pattern=r'<U\\+\\w{4}>'\n",
    "\n",
    "def remove(sample_text):\n",
    "    result=re.sub(pattern,\"\",sample_text)\n",
    "    print(result)\n",
    "    \n",
    "remove(sample_text)"
   ]
  },
  {
   "cell_type": "code",
   "execution_count": 18,
   "id": "7d271d86",
   "metadata": {},
   "outputs": [
    {
     "name": "stdout",
     "output_type": "stream",
     "text": [
      "[('12', '09', '1992'), ('15', '12', '1999')]\n"
     ]
    }
   ],
   "source": [
    "#Q.29\n",
    "import re\n",
    "\n",
    "with open('Q.29.txt', 'r') as file:\n",
    "    text=file.read()\n",
    "def line(text):\n",
    "        \n",
    "        pattern=r'(\\d{1,2})-(\\d{1,2})-(\\d{4})'\n",
    "        result=re.findall(pattern,text)\n",
    "        print (result)\n",
    "        \n",
    "line(text)       "
   ]
  },
  {
   "cell_type": "code",
   "execution_count": 54,
   "id": "3e1a6978",
   "metadata": {},
   "outputs": [
    {
     "name": "stdout",
     "output_type": "stream",
     "text": [
      " following example creates  ArrayList  a capacity   elements.4 elements   added   ArrayList   ArrayList  trimmed accordingly.\n"
     ]
    }
   ],
   "source": [
    "#Q.30\n",
    "sample_text=\"The following example creates an ArrayList with a capacity of 50 elements.4 elements are then added to the ArrayList and the ArrayList is trimmed accordingly.\"\n",
    "pattern=re.compile(r'\\b\\w{2,4}\\b')\n",
    "\n",
    "def remove(sample_text):\n",
    "    result=re.sub(pattern,\"\",sample_text)\n",
    "    print(result)\n",
    "\n",
    "remove(sample_text)"
   ]
  },
  {
   "cell_type": "code",
   "execution_count": 23,
   "id": "573a1c5d",
   "metadata": {},
   "outputs": [
    {
     "data": {
      "text/html": [
       "<div>\n",
       "<style scoped>\n",
       "    .dataframe tbody tr th:only-of-type {\n",
       "        vertical-align: middle;\n",
       "    }\n",
       "\n",
       "    .dataframe tbody tr th {\n",
       "        vertical-align: top;\n",
       "    }\n",
       "\n",
       "    .dataframe thead th {\n",
       "        text-align: right;\n",
       "    }\n",
       "</style>\n",
       "<table border=\"1\" class=\"dataframe\">\n",
       "  <thead>\n",
       "    <tr style=\"text-align: right;\">\n",
       "      <th></th>\n",
       "      <th>Country</th>\n",
       "      <th>Region</th>\n",
       "      <th>Happiness Rank</th>\n",
       "      <th>Happiness Score</th>\n",
       "      <th>Standard Error</th>\n",
       "      <th>Economy (GDP per Capita)</th>\n",
       "      <th>Family</th>\n",
       "      <th>Health (Life Expectancy)</th>\n",
       "      <th>Freedom</th>\n",
       "      <th>Trust (Government Corruption)</th>\n",
       "      <th>Generosity</th>\n",
       "      <th>Dystopia Residual</th>\n",
       "    </tr>\n",
       "  </thead>\n",
       "  <tbody>\n",
       "    <tr>\n",
       "      <th>0</th>\n",
       "      <td>Switzerland</td>\n",
       "      <td>Western Europe</td>\n",
       "      <td>1</td>\n",
       "      <td>7.587</td>\n",
       "      <td>0.03411</td>\n",
       "      <td>1.39651</td>\n",
       "      <td>1.34951</td>\n",
       "      <td>0.94143</td>\n",
       "      <td>0.66557</td>\n",
       "      <td>0.41978</td>\n",
       "      <td>0.29678</td>\n",
       "      <td>2.51738</td>\n",
       "    </tr>\n",
       "    <tr>\n",
       "      <th>1</th>\n",
       "      <td>Iceland</td>\n",
       "      <td>Western Europe</td>\n",
       "      <td>2</td>\n",
       "      <td>7.561</td>\n",
       "      <td>0.04884</td>\n",
       "      <td>1.30232</td>\n",
       "      <td>1.40223</td>\n",
       "      <td>0.94784</td>\n",
       "      <td>0.62877</td>\n",
       "      <td>0.14145</td>\n",
       "      <td>0.43630</td>\n",
       "      <td>2.70201</td>\n",
       "    </tr>\n",
       "    <tr>\n",
       "      <th>2</th>\n",
       "      <td>Denmark</td>\n",
       "      <td>Western Europe</td>\n",
       "      <td>3</td>\n",
       "      <td>7.527</td>\n",
       "      <td>0.03328</td>\n",
       "      <td>1.32548</td>\n",
       "      <td>1.36058</td>\n",
       "      <td>0.87464</td>\n",
       "      <td>0.64938</td>\n",
       "      <td>0.48357</td>\n",
       "      <td>0.34139</td>\n",
       "      <td>2.49204</td>\n",
       "    </tr>\n",
       "    <tr>\n",
       "      <th>3</th>\n",
       "      <td>Norway</td>\n",
       "      <td>Western Europe</td>\n",
       "      <td>4</td>\n",
       "      <td>7.522</td>\n",
       "      <td>0.03880</td>\n",
       "      <td>1.45900</td>\n",
       "      <td>1.33095</td>\n",
       "      <td>0.88521</td>\n",
       "      <td>0.66973</td>\n",
       "      <td>0.36503</td>\n",
       "      <td>0.34699</td>\n",
       "      <td>2.46531</td>\n",
       "    </tr>\n",
       "    <tr>\n",
       "      <th>4</th>\n",
       "      <td>Canada</td>\n",
       "      <td>North America</td>\n",
       "      <td>5</td>\n",
       "      <td>7.427</td>\n",
       "      <td>0.03553</td>\n",
       "      <td>1.32629</td>\n",
       "      <td>1.32261</td>\n",
       "      <td>0.90563</td>\n",
       "      <td>0.63297</td>\n",
       "      <td>0.32957</td>\n",
       "      <td>0.45811</td>\n",
       "      <td>2.45176</td>\n",
       "    </tr>\n",
       "  </tbody>\n",
       "</table>\n",
       "</div>"
      ],
      "text/plain": [
       "       Country          Region  Happiness Rank  Happiness Score  \\\n",
       "0  Switzerland  Western Europe               1            7.587   \n",
       "1      Iceland  Western Europe               2            7.561   \n",
       "2      Denmark  Western Europe               3            7.527   \n",
       "3       Norway  Western Europe               4            7.522   \n",
       "4       Canada   North America               5            7.427   \n",
       "\n",
       "   Standard Error  Economy (GDP per Capita)   Family  \\\n",
       "0         0.03411                   1.39651  1.34951   \n",
       "1         0.04884                   1.30232  1.40223   \n",
       "2         0.03328                   1.32548  1.36058   \n",
       "3         0.03880                   1.45900  1.33095   \n",
       "4         0.03553                   1.32629  1.32261   \n",
       "\n",
       "   Health (Life Expectancy)  Freedom  Trust (Government Corruption)  \\\n",
       "0                   0.94143  0.66557                        0.41978   \n",
       "1                   0.94784  0.62877                        0.14145   \n",
       "2                   0.87464  0.64938                        0.48357   \n",
       "3                   0.88521  0.66973                        0.36503   \n",
       "4                   0.90563  0.63297                        0.32957   \n",
       "\n",
       "   Generosity  Dystopia Residual  \n",
       "0     0.29678            2.51738  \n",
       "1     0.43630            2.70201  \n",
       "2     0.34139            2.49204  \n",
       "3     0.34699            2.46531  \n",
       "4     0.45811            2.45176  "
      ]
     },
     "execution_count": 23,
     "metadata": {},
     "output_type": "execute_result"
    }
   ],
   "source": [
    "#Q.10\n",
    "import pandas as pd\n",
    "link=\"https://raw.githubusercontent.com/dsrscientist/DSData/master/happiness_score_dataset.csv\"\n",
    "df=pd.read_csv(link)\n",
    "df.head()"
   ]
  },
  {
   "cell_type": "code",
   "execution_count": 29,
   "id": "2b044023",
   "metadata": {},
   "outputs": [],
   "source": [
    "df['first_five_letters']=df['Country'].apply(lambda x:x[:6])"
   ]
  },
  {
   "cell_type": "code",
   "execution_count": 30,
   "id": "19ee8094",
   "metadata": {},
   "outputs": [
    {
     "data": {
      "text/html": [
       "<div>\n",
       "<style scoped>\n",
       "    .dataframe tbody tr th:only-of-type {\n",
       "        vertical-align: middle;\n",
       "    }\n",
       "\n",
       "    .dataframe tbody tr th {\n",
       "        vertical-align: top;\n",
       "    }\n",
       "\n",
       "    .dataframe thead th {\n",
       "        text-align: right;\n",
       "    }\n",
       "</style>\n",
       "<table border=\"1\" class=\"dataframe\">\n",
       "  <thead>\n",
       "    <tr style=\"text-align: right;\">\n",
       "      <th></th>\n",
       "      <th>Country</th>\n",
       "      <th>Region</th>\n",
       "      <th>Happiness Rank</th>\n",
       "      <th>Happiness Score</th>\n",
       "      <th>Standard Error</th>\n",
       "      <th>Economy (GDP per Capita)</th>\n",
       "      <th>Family</th>\n",
       "      <th>Health (Life Expectancy)</th>\n",
       "      <th>Freedom</th>\n",
       "      <th>Trust (Government Corruption)</th>\n",
       "      <th>Generosity</th>\n",
       "      <th>Dystopia Residual</th>\n",
       "      <th>first_five_letters</th>\n",
       "    </tr>\n",
       "  </thead>\n",
       "  <tbody>\n",
       "    <tr>\n",
       "      <th>0</th>\n",
       "      <td>Switzerland</td>\n",
       "      <td>Western Europe</td>\n",
       "      <td>1</td>\n",
       "      <td>7.587</td>\n",
       "      <td>0.03411</td>\n",
       "      <td>1.39651</td>\n",
       "      <td>1.34951</td>\n",
       "      <td>0.94143</td>\n",
       "      <td>0.66557</td>\n",
       "      <td>0.41978</td>\n",
       "      <td>0.29678</td>\n",
       "      <td>2.51738</td>\n",
       "      <td>Switze</td>\n",
       "    </tr>\n",
       "    <tr>\n",
       "      <th>1</th>\n",
       "      <td>Iceland</td>\n",
       "      <td>Western Europe</td>\n",
       "      <td>2</td>\n",
       "      <td>7.561</td>\n",
       "      <td>0.04884</td>\n",
       "      <td>1.30232</td>\n",
       "      <td>1.40223</td>\n",
       "      <td>0.94784</td>\n",
       "      <td>0.62877</td>\n",
       "      <td>0.14145</td>\n",
       "      <td>0.43630</td>\n",
       "      <td>2.70201</td>\n",
       "      <td>Icelan</td>\n",
       "    </tr>\n",
       "    <tr>\n",
       "      <th>2</th>\n",
       "      <td>Denmark</td>\n",
       "      <td>Western Europe</td>\n",
       "      <td>3</td>\n",
       "      <td>7.527</td>\n",
       "      <td>0.03328</td>\n",
       "      <td>1.32548</td>\n",
       "      <td>1.36058</td>\n",
       "      <td>0.87464</td>\n",
       "      <td>0.64938</td>\n",
       "      <td>0.48357</td>\n",
       "      <td>0.34139</td>\n",
       "      <td>2.49204</td>\n",
       "      <td>Denmar</td>\n",
       "    </tr>\n",
       "    <tr>\n",
       "      <th>3</th>\n",
       "      <td>Norway</td>\n",
       "      <td>Western Europe</td>\n",
       "      <td>4</td>\n",
       "      <td>7.522</td>\n",
       "      <td>0.03880</td>\n",
       "      <td>1.45900</td>\n",
       "      <td>1.33095</td>\n",
       "      <td>0.88521</td>\n",
       "      <td>0.66973</td>\n",
       "      <td>0.36503</td>\n",
       "      <td>0.34699</td>\n",
       "      <td>2.46531</td>\n",
       "      <td>Norway</td>\n",
       "    </tr>\n",
       "    <tr>\n",
       "      <th>4</th>\n",
       "      <td>Canada</td>\n",
       "      <td>North America</td>\n",
       "      <td>5</td>\n",
       "      <td>7.427</td>\n",
       "      <td>0.03553</td>\n",
       "      <td>1.32629</td>\n",
       "      <td>1.32261</td>\n",
       "      <td>0.90563</td>\n",
       "      <td>0.63297</td>\n",
       "      <td>0.32957</td>\n",
       "      <td>0.45811</td>\n",
       "      <td>2.45176</td>\n",
       "      <td>Canada</td>\n",
       "    </tr>\n",
       "  </tbody>\n",
       "</table>\n",
       "</div>"
      ],
      "text/plain": [
       "       Country          Region  Happiness Rank  Happiness Score  \\\n",
       "0  Switzerland  Western Europe               1            7.587   \n",
       "1      Iceland  Western Europe               2            7.561   \n",
       "2      Denmark  Western Europe               3            7.527   \n",
       "3       Norway  Western Europe               4            7.522   \n",
       "4       Canada   North America               5            7.427   \n",
       "\n",
       "   Standard Error  Economy (GDP per Capita)   Family  \\\n",
       "0         0.03411                   1.39651  1.34951   \n",
       "1         0.04884                   1.30232  1.40223   \n",
       "2         0.03328                   1.32548  1.36058   \n",
       "3         0.03880                   1.45900  1.33095   \n",
       "4         0.03553                   1.32629  1.32261   \n",
       "\n",
       "   Health (Life Expectancy)  Freedom  Trust (Government Corruption)  \\\n",
       "0                   0.94143  0.66557                        0.41978   \n",
       "1                   0.94784  0.62877                        0.14145   \n",
       "2                   0.87464  0.64938                        0.48357   \n",
       "3                   0.88521  0.66973                        0.36503   \n",
       "4                   0.90563  0.63297                        0.32957   \n",
       "\n",
       "   Generosity  Dystopia Residual first_five_letters  \n",
       "0     0.29678            2.51738             Switze  \n",
       "1     0.43630            2.70201             Icelan  \n",
       "2     0.34139            2.49204             Denmar  \n",
       "3     0.34699            2.46531             Norway  \n",
       "4     0.45811            2.45176             Canada  "
      ]
     },
     "execution_count": 30,
     "metadata": {},
     "output_type": "execute_result"
    }
   ],
   "source": [
    "df.head()"
   ]
  },
  {
   "cell_type": "code",
   "execution_count": 22,
   "id": "3e9c59f5",
   "metadata": {
    "collapsed": true
   },
   "outputs": [
    {
     "data": {
      "text/html": [
       "<div>\n",
       "<style scoped>\n",
       "    .dataframe tbody tr th:only-of-type {\n",
       "        vertical-align: middle;\n",
       "    }\n",
       "\n",
       "    .dataframe tbody tr th {\n",
       "        vertical-align: top;\n",
       "    }\n",
       "\n",
       "    .dataframe thead th {\n",
       "        text-align: right;\n",
       "    }\n",
       "</style>\n",
       "<table border=\"1\" class=\"dataframe\">\n",
       "  <thead>\n",
       "    <tr style=\"text-align: right;\">\n",
       "      <th></th>\n",
       "      <th>Country</th>\n",
       "      <th>Region</th>\n",
       "      <th>Happiness Rank</th>\n",
       "      <th>Happiness Score</th>\n",
       "      <th>Standard Error</th>\n",
       "      <th>Economy (GDP per Capita)</th>\n",
       "      <th>Family</th>\n",
       "      <th>Health (Life Expectancy)</th>\n",
       "      <th>Freedom</th>\n",
       "      <th>Trust (Government Corruption)</th>\n",
       "      <th>Generosity</th>\n",
       "      <th>Dystopia Residual</th>\n",
       "    </tr>\n",
       "  </thead>\n",
       "  <tbody>\n",
       "    <tr>\n",
       "      <th>0</th>\n",
       "      <td>Switzerland</td>\n",
       "      <td>Western Europe</td>\n",
       "      <td>1</td>\n",
       "      <td>7.587</td>\n",
       "      <td>0.03411</td>\n",
       "      <td>1.39651</td>\n",
       "      <td>1.34951</td>\n",
       "      <td>0.94143</td>\n",
       "      <td>0.66557</td>\n",
       "      <td>0.41978</td>\n",
       "      <td>0.29678</td>\n",
       "      <td>2.51738</td>\n",
       "    </tr>\n",
       "    <tr>\n",
       "      <th>1</th>\n",
       "      <td>Iceland</td>\n",
       "      <td>Western Europe</td>\n",
       "      <td>2</td>\n",
       "      <td>7.561</td>\n",
       "      <td>0.04884</td>\n",
       "      <td>1.30232</td>\n",
       "      <td>1.40223</td>\n",
       "      <td>0.94784</td>\n",
       "      <td>0.62877</td>\n",
       "      <td>0.14145</td>\n",
       "      <td>0.43630</td>\n",
       "      <td>2.70201</td>\n",
       "    </tr>\n",
       "    <tr>\n",
       "      <th>2</th>\n",
       "      <td>Denmark</td>\n",
       "      <td>Western Europe</td>\n",
       "      <td>3</td>\n",
       "      <td>7.527</td>\n",
       "      <td>0.03328</td>\n",
       "      <td>1.32548</td>\n",
       "      <td>1.36058</td>\n",
       "      <td>0.87464</td>\n",
       "      <td>0.64938</td>\n",
       "      <td>0.48357</td>\n",
       "      <td>0.34139</td>\n",
       "      <td>2.49204</td>\n",
       "    </tr>\n",
       "    <tr>\n",
       "      <th>3</th>\n",
       "      <td>Norway</td>\n",
       "      <td>Western Europe</td>\n",
       "      <td>4</td>\n",
       "      <td>7.522</td>\n",
       "      <td>0.03880</td>\n",
       "      <td>1.45900</td>\n",
       "      <td>1.33095</td>\n",
       "      <td>0.88521</td>\n",
       "      <td>0.66973</td>\n",
       "      <td>0.36503</td>\n",
       "      <td>0.34699</td>\n",
       "      <td>2.46531</td>\n",
       "    </tr>\n",
       "    <tr>\n",
       "      <th>4</th>\n",
       "      <td>Canada</td>\n",
       "      <td>North America</td>\n",
       "      <td>5</td>\n",
       "      <td>7.427</td>\n",
       "      <td>0.03553</td>\n",
       "      <td>1.32629</td>\n",
       "      <td>1.32261</td>\n",
       "      <td>0.90563</td>\n",
       "      <td>0.63297</td>\n",
       "      <td>0.32957</td>\n",
       "      <td>0.45811</td>\n",
       "      <td>2.45176</td>\n",
       "    </tr>\n",
       "    <tr>\n",
       "      <th>...</th>\n",
       "      <td>...</td>\n",
       "      <td>...</td>\n",
       "      <td>...</td>\n",
       "      <td>...</td>\n",
       "      <td>...</td>\n",
       "      <td>...</td>\n",
       "      <td>...</td>\n",
       "      <td>...</td>\n",
       "      <td>...</td>\n",
       "      <td>...</td>\n",
       "      <td>...</td>\n",
       "      <td>...</td>\n",
       "    </tr>\n",
       "    <tr>\n",
       "      <th>153</th>\n",
       "      <td>Rwanda</td>\n",
       "      <td>Sub-Saharan Africa</td>\n",
       "      <td>154</td>\n",
       "      <td>3.465</td>\n",
       "      <td>0.03464</td>\n",
       "      <td>0.22208</td>\n",
       "      <td>0.77370</td>\n",
       "      <td>0.42864</td>\n",
       "      <td>0.59201</td>\n",
       "      <td>0.55191</td>\n",
       "      <td>0.22628</td>\n",
       "      <td>0.67042</td>\n",
       "    </tr>\n",
       "    <tr>\n",
       "      <th>154</th>\n",
       "      <td>Benin</td>\n",
       "      <td>Sub-Saharan Africa</td>\n",
       "      <td>155</td>\n",
       "      <td>3.340</td>\n",
       "      <td>0.03656</td>\n",
       "      <td>0.28665</td>\n",
       "      <td>0.35386</td>\n",
       "      <td>0.31910</td>\n",
       "      <td>0.48450</td>\n",
       "      <td>0.08010</td>\n",
       "      <td>0.18260</td>\n",
       "      <td>1.63328</td>\n",
       "    </tr>\n",
       "    <tr>\n",
       "      <th>155</th>\n",
       "      <td>Syria</td>\n",
       "      <td>Middle East and Northern Africa</td>\n",
       "      <td>156</td>\n",
       "      <td>3.006</td>\n",
       "      <td>0.05015</td>\n",
       "      <td>0.66320</td>\n",
       "      <td>0.47489</td>\n",
       "      <td>0.72193</td>\n",
       "      <td>0.15684</td>\n",
       "      <td>0.18906</td>\n",
       "      <td>0.47179</td>\n",
       "      <td>0.32858</td>\n",
       "    </tr>\n",
       "    <tr>\n",
       "      <th>156</th>\n",
       "      <td>Burundi</td>\n",
       "      <td>Sub-Saharan Africa</td>\n",
       "      <td>157</td>\n",
       "      <td>2.905</td>\n",
       "      <td>0.08658</td>\n",
       "      <td>0.01530</td>\n",
       "      <td>0.41587</td>\n",
       "      <td>0.22396</td>\n",
       "      <td>0.11850</td>\n",
       "      <td>0.10062</td>\n",
       "      <td>0.19727</td>\n",
       "      <td>1.83302</td>\n",
       "    </tr>\n",
       "    <tr>\n",
       "      <th>157</th>\n",
       "      <td>Togo</td>\n",
       "      <td>Sub-Saharan Africa</td>\n",
       "      <td>158</td>\n",
       "      <td>2.839</td>\n",
       "      <td>0.06727</td>\n",
       "      <td>0.20868</td>\n",
       "      <td>0.13995</td>\n",
       "      <td>0.28443</td>\n",
       "      <td>0.36453</td>\n",
       "      <td>0.10731</td>\n",
       "      <td>0.16681</td>\n",
       "      <td>1.56726</td>\n",
       "    </tr>\n",
       "  </tbody>\n",
       "</table>\n",
       "<p>158 rows × 12 columns</p>\n",
       "</div>"
      ],
      "text/plain": [
       "         Country                           Region  Happiness Rank  \\\n",
       "0    Switzerland                   Western Europe               1   \n",
       "1        Iceland                   Western Europe               2   \n",
       "2        Denmark                   Western Europe               3   \n",
       "3         Norway                   Western Europe               4   \n",
       "4         Canada                    North America               5   \n",
       "..           ...                              ...             ...   \n",
       "153       Rwanda               Sub-Saharan Africa             154   \n",
       "154        Benin               Sub-Saharan Africa             155   \n",
       "155        Syria  Middle East and Northern Africa             156   \n",
       "156      Burundi               Sub-Saharan Africa             157   \n",
       "157         Togo               Sub-Saharan Africa             158   \n",
       "\n",
       "     Happiness Score  Standard Error  Economy (GDP per Capita)   Family  \\\n",
       "0              7.587         0.03411                   1.39651  1.34951   \n",
       "1              7.561         0.04884                   1.30232  1.40223   \n",
       "2              7.527         0.03328                   1.32548  1.36058   \n",
       "3              7.522         0.03880                   1.45900  1.33095   \n",
       "4              7.427         0.03553                   1.32629  1.32261   \n",
       "..               ...             ...                       ...      ...   \n",
       "153            3.465         0.03464                   0.22208  0.77370   \n",
       "154            3.340         0.03656                   0.28665  0.35386   \n",
       "155            3.006         0.05015                   0.66320  0.47489   \n",
       "156            2.905         0.08658                   0.01530  0.41587   \n",
       "157            2.839         0.06727                   0.20868  0.13995   \n",
       "\n",
       "     Health (Life Expectancy)  Freedom  Trust (Government Corruption)  \\\n",
       "0                     0.94143  0.66557                        0.41978   \n",
       "1                     0.94784  0.62877                        0.14145   \n",
       "2                     0.87464  0.64938                        0.48357   \n",
       "3                     0.88521  0.66973                        0.36503   \n",
       "4                     0.90563  0.63297                        0.32957   \n",
       "..                        ...      ...                            ...   \n",
       "153                   0.42864  0.59201                        0.55191   \n",
       "154                   0.31910  0.48450                        0.08010   \n",
       "155                   0.72193  0.15684                        0.18906   \n",
       "156                   0.22396  0.11850                        0.10062   \n",
       "157                   0.28443  0.36453                        0.10731   \n",
       "\n",
       "     Generosity  Dystopia Residual  \n",
       "0       0.29678            2.51738  \n",
       "1       0.43630            2.70201  \n",
       "2       0.34139            2.49204  \n",
       "3       0.34699            2.46531  \n",
       "4       0.45811            2.45176  \n",
       "..          ...                ...  \n",
       "153     0.22628            0.67042  \n",
       "154     0.18260            1.63328  \n",
       "155     0.47179            0.32858  \n",
       "156     0.19727            1.83302  \n",
       "157     0.16681            1.56726  \n",
       "\n",
       "[158 rows x 12 columns]"
      ]
     },
     "execution_count": 22,
     "metadata": {},
     "output_type": "execute_result"
    }
   ],
   "source": []
  },
  {
   "cell_type": "code",
   "execution_count": null,
   "id": "e8531893",
   "metadata": {},
   "outputs": [],
   "source": []
  }
 ],
 "metadata": {
  "kernelspec": {
   "display_name": "Python 3 (ipykernel)",
   "language": "python",
   "name": "python3"
  },
  "language_info": {
   "codemirror_mode": {
    "name": "ipython",
    "version": 3
   },
   "file_extension": ".py",
   "mimetype": "text/x-python",
   "name": "python",
   "nbconvert_exporter": "python",
   "pygments_lexer": "ipython3",
   "version": "3.11.5"
  }
 },
 "nbformat": 4,
 "nbformat_minor": 5
}
