{
 "cells": [
  {
   "cell_type": "code",
   "execution_count": 4,
   "id": "bf24d28b",
   "metadata": {},
   "outputs": [
    {
     "data": {
      "text/plain": [
       "1"
      ]
     },
     "execution_count": 4,
     "metadata": {},
     "output_type": "execute_result"
    }
   ],
   "source": [
    "#Q.1\n",
    "4 % 3"
   ]
  },
  {
   "cell_type": "code",
   "execution_count": 5,
   "id": "222ef8d9",
   "metadata": {},
   "outputs": [
    {
     "data": {
      "text/plain": [
       "0"
      ]
     },
     "execution_count": 5,
     "metadata": {},
     "output_type": "execute_result"
    }
   ],
   "source": [
    "#Q.2\n",
    "2//3"
   ]
  },
  {
   "cell_type": "code",
   "execution_count": 6,
   "id": "8a95eab9",
   "metadata": {},
   "outputs": [
    {
     "data": {
      "text/plain": [
       "24"
      ]
     },
     "execution_count": 6,
     "metadata": {},
     "output_type": "execute_result"
    }
   ],
   "source": [
    "#Q.3\n",
    "6<<2"
   ]
  },
  {
   "cell_type": "code",
   "execution_count": 7,
   "id": "20f86074",
   "metadata": {},
   "outputs": [
    {
     "data": {
      "text/plain": [
       "2"
      ]
     },
     "execution_count": 7,
     "metadata": {},
     "output_type": "execute_result"
    }
   ],
   "source": [
    "#Q.4\n",
    "6&2"
   ]
  },
  {
   "cell_type": "code",
   "execution_count": 8,
   "id": "9243e4e4",
   "metadata": {},
   "outputs": [
    {
     "data": {
      "text/plain": [
       "6"
      ]
     },
     "execution_count": 8,
     "metadata": {},
     "output_type": "execute_result"
    }
   ],
   "source": [
    "#Q.5\n",
    "6|2"
   ]
  },
  {
   "cell_type": "code",
   "execution_count": 9,
   "id": "2b9aa52d",
   "metadata": {},
   "outputs": [],
   "source": [
    "#Q.6 \n",
    "the finally block will be executed no matter if the try block raises an error or not\n"
   ]
  },
  {
   "cell_type": "code",
   "execution_count": 10,
   "id": "958f2881",
   "metadata": {},
   "outputs": [],
   "source": [
    "#Q.7 \n",
    "It is used to raise an exception. "
   ]
  },
  {
   "cell_type": "code",
   "execution_count": 11,
   "id": "c4359861",
   "metadata": {},
   "outputs": [],
   "source": [
    "#Q.8\n",
    "In defining a generator"
   ]
  },
  {
   "cell_type": "code",
   "execution_count": 12,
   "id": "5f773536",
   "metadata": {},
   "outputs": [],
   "source": [
    "#Q.9 \n",
    "_abc and abc2\n"
   ]
  },
  {
   "cell_type": "code",
   "execution_count": 13,
   "id": "cf460028",
   "metadata": {},
   "outputs": [],
   "source": [
    "#Q.10 \n",
    "all of the above\n"
   ]
  },
  {
   "cell_type": "code",
   "execution_count": 99,
   "id": "7d463cde",
   "metadata": {},
   "outputs": [
    {
     "name": "stdout",
     "output_type": "stream",
     "text": [
      "Enter a number:5\n",
      "The Factorial of  5 is 120\n"
     ]
    }
   ],
   "source": [
    "#Q.11\n",
    "num=int(input(\"Enter a number:\"))\n",
    "#num=5\n",
    "#fact=1\n",
    "def factorial(n):\n",
    "    if num==0 or num==1 :\n",
    "        print(\"factorial is 1\")\n",
    "    else:\n",
    "        fact=1\n",
    "        for i in range(n,num + 1):\n",
    "            fact=fact* i\n",
    "        print(\"The Factorial of \", num,\"is\",fact)\n",
    "factorial(n)\n",
    "    "
   ]
  },
  {
   "cell_type": "code",
   "execution_count": 24,
   "id": "fbce25d6",
   "metadata": {},
   "outputs": [
    {
     "name": "stdout",
     "output_type": "stream",
     "text": [
      "Enter Number:17\n",
      "17 Its a Prime Number\n"
     ]
    }
   ],
   "source": [
    "#Q.12\n",
    "num=int(input(\"Enter Number:\"))\n",
    "n=2\n",
    "if num>1:\n",
    "    for i in range(n,num):\n",
    "        if(num % i) == 0:\n",
    "            print(num,\"Its not a Prime Number\")\n",
    "            \n",
    "    else:\n",
    "        print(num,\"Its a Prime Number\")\n",
    "elif num==0 or num==1:\n",
    "    print(num,\"Its neither Prime nor Composite number\")\n",
    "else:\n",
    "    print(num,\"Its composite number\")"
   ]
  },
  {
   "cell_type": "code",
   "execution_count": 21,
   "id": "de5a8fda",
   "metadata": {},
   "outputs": [
    {
     "name": "stdout",
     "output_type": "stream",
     "text": [
      "Enter the String :mom\n",
      "The string is Palindrome\n"
     ]
    }
   ],
   "source": [
    "#Q.13\n",
    "string=input(\"Enter the String :\")\n",
    "str1=reversed(string)\n",
    "def pal(string):\n",
    "    if list(string)==list(str1):\n",
    "        print(\"The string is Palindrome\")\n",
    "    else:\n",
    "        print(\"The string is not Palindrome\")\n",
    "pal(string)"
   ]
  },
  {
   "cell_type": "code",
   "execution_count": 86,
   "id": "276a2bb0",
   "metadata": {},
   "outputs": [
    {
     "name": "stdout",
     "output_type": "stream",
     "text": [
      "The Third side of right angled triangle is :  10.0\n"
     ]
    }
   ],
   "source": [
    "#Q.14\n",
    "from math import sqrt\n",
    "x=6\n",
    "y=8\n",
    "def third_side(x,y):\n",
    "    t=sqrt(x**2 + y**2)\n",
    "    print(\"The Third side of right angled triangle is : \",t)\n",
    "\n",
    "third_side(x,y)"
   ]
  },
  {
   "cell_type": "code",
   "execution_count": 29,
   "id": "f3f9ae32",
   "metadata": {},
   "outputs": [
    {
     "name": "stdout",
     "output_type": "stream",
     "text": [
      "Enter the string : gouriamar\n",
      "Frequency of each characters in String is :  {'g': 1, 'o': 1, 'u': 1, 'r': 2, 'i': 1, 'a': 2, 'm': 1}\n"
     ]
    }
   ],
   "source": [
    "#Q.15\n",
    "string=input(\"Enter the string : \")\n",
    "dic={}\n",
    "\n",
    "for fre in string:\n",
    "    if fre in dic:\n",
    "        dic[fre]=dic[fre]+1\n",
    "    else:\n",
    "        dic[fre]=1\n",
    "print(\"Frequency of each characters in String is : \",dic)\n"
   ]
  },
  {
   "cell_type": "code",
   "execution_count": null,
   "id": "7da95fce",
   "metadata": {},
   "outputs": [],
   "source": []
  }
 ],
 "metadata": {
  "kernelspec": {
   "display_name": "Python 3 (ipykernel)",
   "language": "python",
   "name": "python3"
  },
  "language_info": {
   "codemirror_mode": {
    "name": "ipython",
    "version": 3
   },
   "file_extension": ".py",
   "mimetype": "text/x-python",
   "name": "python",
   "nbconvert_exporter": "python",
   "pygments_lexer": "ipython3",
   "version": "3.11.5"
  }
 },
 "nbformat": 4,
 "nbformat_minor": 5
}
